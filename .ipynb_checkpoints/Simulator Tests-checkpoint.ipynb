{
 "cells": [
  {
   "cell_type": "code",
   "execution_count": 1,
   "metadata": {},
   "outputs": [],
   "source": [
    "import matplotlib.pyplot as plt\n",
    "import matplotlib.cbook as cbook\n",
    "\n",
    "import numpy as np\n",
    "import pandas as pd"
   ]
  },
  {
   "cell_type": "code",
   "execution_count": 11,
   "metadata": {},
   "outputs": [
    {
     "name": "stdout",
     "output_type": "stream",
     "text": [
      "         seed  level  vitamins_used  finished  num_ver_clears  num_hor_clears  \\\n",
      "0           2      0             13         1              22               0   \n",
      "1           2      1             27         1              55               0   \n",
      "2           2      2             59         1             124               0   \n",
      "3           2      3             74         1             155               0   \n",
      "4           2      4             94         1             198               0   \n",
      "...       ...    ...            ...       ...             ...             ...   \n",
      "1376167  ffff     16            171         1             401               4   \n",
      "1376168  ffff     17            167         1             397               0   \n",
      "1376169  ffff     18            215         1             495               4   \n",
      "1376170  ffff     19             37         0              56               0   \n",
      "1376171  ffff     20             29         0              40               0   \n",
      "\n",
      "         num_vita_placed_top_row  \n",
      "0                              0  \n",
      "1                              0  \n",
      "2                              0  \n",
      "3                              0  \n",
      "4                              0  \n",
      "...                          ...  \n",
      "1376167                        0  \n",
      "1376168                        0  \n",
      "1376169                        0  \n",
      "1376170                        2  \n",
      "1376171                        3  \n",
      "\n",
      "[1376172 rows x 7 columns]\n"
     ]
    }
   ],
   "source": [
    "TVO_v1 = pd.read_csv('Simulator/TVO_v1.csv')\n",
    "print(TVO_v1)"
   ]
  },
  {
   "cell_type": "code",
   "execution_count": 34,
   "metadata": {},
   "outputs": [
    {
     "name": "stdout",
     "output_type": "stream",
     "text": [
      "1    629122.0\n",
      "0     58964.0\n",
      "Name: finished, dtype: float64\n",
      "135.62312123775226\n"
     ]
    }
   ],
   "source": [
    "finished_counts_tvo_v1 = TVO_v1['finished'].value_counts()\n",
    "print(finished_counts_tvo_v1/2)\n",
    "vitamins_used = TVO_v1['vitamins_used'].mean()\n",
    "print(vitamins_used)"
   ]
  },
  {
   "cell_type": "code",
   "execution_count": 35,
   "metadata": {},
   "outputs": [
    {
     "data": {
      "text/plain": [
       "<matplotlib.axes._subplots.AxesSubplot at 0x121a610b8>"
      ]
     },
     "execution_count": 35,
     "metadata": {},
     "output_type": "execute_result"
    },
    {
     "data": {
      "image/png": "[encoded data removed]",
      "text/plain": [
       "<Figure size 432x288 with 1 Axes>"
      ]
     },
     "metadata": {},
     "output_type": "display_data"
    }
   ],
   "source": [
    "finished_counts.plot(kind='pie')"
   ]
  },
  {
   "cell_type": "code",
   "execution_count": 14,
   "metadata": {},
   "outputs": [
    {
     "name": "stdout",
     "output_type": "stream",
     "text": [
      "1    1181386\n",
      "0     194786\n",
      "Name: finished, dtype: int64\n",
      "282.4222582642286\n"
     ]
    }
   ],
   "source": [
    "TVO_v2 = pd.read_csv('Simulator/TVO_v2.csv')\n",
    "finished_counts_tvo_v2 = TVO_v2['finished'].value_counts()\n",
    "print(finished_counts_tvo_v2)\n",
    "print(TVO_v2['vitamins_used'].mean())"
   ]
  },
  {
   "cell_type": "code",
   "execution_count": 15,
   "metadata": {},
   "outputs": [
    {
     "data": {
      "text/plain": [
       "<matplotlib.axes._subplots.AxesSubplot at 0x126083e48>"
      ]
     },
     "execution_count": 15,
     "metadata": {},
     "output_type": "execute_result"
    },
    {
     "data": {
      "image/png": "[encoded data removed]",
      "text/plain": [
       "<Figure size 432x288 with 1 Axes>"
      ]
     },
     "metadata": {},
     "output_type": "display_data"
    }
   ],
   "source": [
    "finished_counts.plot(kind='pie')"
   ]
  },
  {
   "cell_type": "code",
   "execution_count": 16,
   "metadata": {},
   "outputs": [
    {
     "name": "stdout",
     "output_type": "stream",
     "text": [
      "1    1283254\n",
      "0      92918\n",
      "Name: finished, dtype: int64\n",
      "116.74157154774258\n"
     ]
    },
    {
     "data": {
      "text/plain": [
       "<matplotlib.axes._subplots.AxesSubplot at 0x120c34eb8>"
      ]
     },
     "execution_count": 16,
     "metadata": {},
     "output_type": "execute_result"
    },
    {
     "data": {
      "image/png": "[encoded data removed]",
      "text/plain": [
       "<Figure size 432x288 with 1 Axes>"
      ]
     },
     "metadata": {},
     "output_type": "display_data"
    }
   ],
   "source": [
    "TVO_v3 = pd.read_csv('Simulator/TVO_v3.csv')\n",
    "finished_counts_tvo_v3 = TVO_v3['finished'].value_counts()\n",
    "print(finished_counts_tvo_v3)\n",
    "print(TVO_v3['vitamins_used'].mean())\n",
    "finished_counts.plot(kind='pie')"
   ]
  },
  {
   "cell_type": "code",
   "execution_count": 43,
   "metadata": {},
   "outputs": [
    {
     "name": "stdout",
     "output_type": "stream",
     "text": [
      "1    1190484\n",
      "0     185688\n",
      "Name: finished, dtype: int64\n",
      "196.68562214606894\n",
      "1376172\n"
     ]
    },
    {
     "data": {
      "image/png": "[encoded data removed]",
      "text/plain": [
       "<Figure size 432x288 with 1 Axes>"
      ]
     },
     "metadata": {},
     "output_type": "display_data"
    }
   ],
   "source": [
    "TVO_v4 = pd.read_csv('Simulator/TVO_v4.csv')\n",
    "finished_counts_tvo_v4 = TVO_v4['finished'].value_counts()\n",
    "print(finished_counts_tvo_v4)\n",
    "print(TVO_v4['vitamins_used'].mean())\n",
    "finished_counts.plot(kind='pie')len(TVO_v4)len(TVO_v4)len"
   ]
  },
  {
   "cell_type": "code",
   "execution_count": 64,
   "metadata": {},
   "outputs": [
    {
     "data": {
      "image/png": "[encoded data removed]",
      "text/plain": [
       "<Figure size 432x288 with 1 Axes>"
      ]
     },
     "metadata": {
      "needs_background": "light"
     },
     "output_type": "display_data"
    }
   ],
   "source": [
    "df = pd.DataFrame({'ver':['V1', 'V2', 'V3', 'V4','Total'], 'val':[int(finished_counts_tvo_v1[1]/2), int(finished_counts_tvo_v2[1]/2), int(finished_counts_tvo_v3[1]/2),int(finished_counts_tvo_v4[1]/2),int(len(TVO_v1)/2)]})\n",
    "ax = df.plot.bar(x='ver', y='val', rot=0, color=['mediumslateblue', 'mediumslateblue', 'mediumslateblue', 'mediumslateblue', 'gold'])\n",
    "ax.get_legend().remove()\n",
    "ax.set_ylabel('# of Levels')\n",
    "ax.set_xlabel('Version')\n",
    "ax.set_facecolor('black')\n",
    "ax.set_title('Number of Levels Finished by the TVO Solvers')\n",
    "\n",
    "for i in range(len(df['ver'])):\n",
    "    plt.text(i,  df['val'][i]//1.3, df['val'][i], ha = 'center',\n",
    "                 Bbox = dict(facecolor = 'white'))\n",
    "    \n",
    "#     plt.text(i, df['val'][i], df['val'][i], ha = 'center',color='white')"
   ]
  },
  {
   "cell_type": "code",
   "execution_count": 22,
   "metadata": {},
   "outputs": [
    {
     "data": {
      "image/png": "[encoded data removed]",
      "text/plain": [
       "<Figure size 432x288 with 1 Axes>"
      ]
     },
     "metadata": {
      "needs_background": "light"
     },
     "output_type": "display_data"
    }
   ],
   "source": [
    "TVO_v1_success = TVO_v1[TVO_v1['finished']==1]\n",
    "TVO_v2_success = TVO_v2[TVO_v2['finished']==1]\n",
    "TVO_v3_success = TVO_v3[TVO_v3['finished']==1]\n",
    "TVO_v4_success = TVO_v4[TVO_v4['finished']==1]\n",
    "\n",
    "df = pd.DataFrame({'ver':['V1', 'V2', 'V3', 'V4'], 'val':[TVO_v1_success['vitamins_used'].mean(), TVO_v2_success['vitamins_used'].mean(),TVO_v3_success['vitamins_used'].mean(),TVO_v4_success['vitamins_used'].mean()]})\n",
    "ax = df.plot.bar(x='ver', y='val', rot=0)"
   ]
  },
  {
   "cell_type": "code",
   "execution_count": 26,
   "metadata": {},
   "outputs": [
    {
     "name": "stdout",
     "output_type": "stream",
     "text": [
      "1    1332706\n",
      "0      43466\n",
      "Name: finished, dtype: int64\n"
     ]
    },
    {
     "data": {
      "text/plain": [
       "<matplotlib.axes._subplots.AxesSubplot at 0x130509be0>"
      ]
     },
     "execution_count": 26,
     "metadata": {},
     "output_type": "execute_result"
    },
    {
     "data": {
      "image/png": "[encoded data removed]",
      "text/plain": [
       "<Figure size 432x288 with 1 Axes>"
      ]
     },
     "metadata": {},
     "output_type": "display_data"
    }
   ],
   "source": [
    "ALS_v1 = pd.read_csv('Simulator/ALS_v1.csv')\n",
    "finished_counts_als_v1 = ALS_v1['finished'].value_counts()\n",
    "print(finished_counts_als_v1)\n",
    "finished_counts.plot(kind='pie')"
   ]
  },
  {
   "cell_type": "code",
   "execution_count": 27,
   "metadata": {},
   "outputs": [
    {
     "name": "stdout",
     "output_type": "stream",
     "text": [
      "1    1293216\n",
      "0      82956\n",
      "Name: finished, dtype: int64\n"
     ]
    },
    {
     "data": {
      "text/plain": [
       "<matplotlib.axes._subplots.AxesSubplot at 0x121866ac8>"
      ]
     },
     "execution_count": 27,
     "metadata": {},
     "output_type": "execute_result"
    },
    {
     "data": {
      "image/png": "[encoded data removed]",
      "text/plain": [
       "<Figure size 432x288 with 1 Axes>"
      ]
     },
     "metadata": {},
     "output_type": "display_data"
    }
   ],
   "source": [
    "ALS_v2 = pd.read_csv('Simulator/ALS_v2.csv')\n",
    "finished_counts_als_v2 = ALS_v2['finished'].value_counts()\n",
    "print(finished_counts_als_v2)\n",
    "finished_counts.plot(kind='pie')"
   ]
  },
  {
   "cell_type": "code",
   "execution_count": 28,
   "metadata": {},
   "outputs": [
    {
     "name": "stdout",
     "output_type": "stream",
     "text": [
      "1    1341552\n",
      "0      34620\n",
      "Name: finished, dtype: int64\n"
     ]
    },
    {
     "data": {
      "text/plain": [
       "<matplotlib.axes._subplots.AxesSubplot at 0x12a6c4160>"
      ]
     },
     "execution_count": 28,
     "metadata": {},
     "output_type": "execute_result"
    },
    {
     "data": {
      "image/png": "[encoded data removed]",
      "text/plain": [
       "<Figure size 432x288 with 1 Axes>"
      ]
     },
     "metadata": {},
     "output_type": "display_data"
    }
   ],
   "source": [
    "ALS_v3 = pd.read_csv('Simulator/ALS_v3.csv')\n",
    "finished_counts_als_v3 = ALS_v3['finished'].value_counts()\n",
    "print(finished_counts_als_v3)\n",
    "finished_counts.plot(kind='pie')"
   ]
  },
  {
   "cell_type": "code",
   "execution_count": 30,
   "metadata": {},
   "outputs": [
    {
     "data": {
      "image/png": "[encoded data removed]",
      "text/plain": [
       "<Figure size 432x288 with 1 Axes>"
      ]
     },
     "metadata": {
      "needs_background": "light"
     },
     "output_type": "display_data"
    }
   ],
   "source": [
    "df = pd.DataFrame({'ver':['V1', 'V2', 'V3'], 'val':[finished_counts_als_v1[1], finished_counts_als_v2[1], finished_counts_als_v3[1]]})\n",
    "ax = df.plot.bar(x='ver', y='val', rot=0)"
   ]
  },
  {
   "cell_type": "code",
   "execution_count": 31,
   "metadata": {},
   "outputs": [
    {
     "data": {
      "image/png": "[encoded data removed]",
      "text/plain": [
       "<Figure size 432x288 with 1 Axes>"
      ]
     },
     "metadata": {
      "needs_background": "light"
     },
     "output_type": "display_data"
    }
   ],
   "source": [
    "ALS_v1_success = ALS_v1[ALS_v1['finished']==1]\n",
    "ALS_v2_success = ALS_v2[ALS_v2['finished']==1]\n",
    "ALS_v3_success = ALS_v3[ALS_v3['finished']==1]\n",
    "\n",
    "\n",
    "df = pd.DataFrame({'ver':['V1', 'V2', 'V3'], 'val':[ALS_v1_success['vitamins_used'].mean(), ALS_v2_success['vitamins_used'].mean(),ALS_v3_success['vitamins_used'].mean()]})\n",
    "ax = df.plot.bar(x='ver', y='val', rot=0)"
   ]
  },
  {
   "cell_type": "code",
   "execution_count": 32,
   "metadata": {},
   "outputs": [
    {
     "data": {
      "image/png": "[encoded data removed]",
      "text/plain": [
       "<Figure size 432x288 with 1 Axes>"
      ]
     },
     "metadata": {
      "needs_background": "light"
     },
     "output_type": "display_data"
    }
   ],
   "source": [
    "df = pd.DataFrame({'ver':['TVO V1', 'TVO V2', 'TVO V3', 'TVO V4', 'ALS V1','ALS V2', 'ALS V3'], 'val':[finished_counts_tvo_v1[1], finished_counts_tvo_v2[1], finished_counts_tvo_v3[1],finished_counts_tvo_v4[1],finished_counts_als_v1[1],finished_counts_als_v2[1],finished_counts_als_v3[1]]})\n",
    "ax = df.plot.bar(x='ver', y='val', rot=0)"
   ]
  },
  {
   "cell_type": "code",
   "execution_count": null,
   "metadata": {},
   "outputs": [],
   "source": []
  },
  {
   "cell_type": "code",
   "execution_count": null,
   "metadata": {},
   "outputs": [],
   "source": []
  },
  {
   "cell_type": "code",
   "execution_count": null,
   "metadata": {},
   "outputs": [],
   "source": []
  },
  {
   "cell_type": "code",
   "execution_count": null,
   "metadata": {},
   "outputs": [],
   "source": []
  }
 ],
 "metadata": {
  "kernelspec": {
   "display_name": "Python 3",
   "language": "python",
   "name": "python3"
  },
  "language_info": {
   "codemirror_mode": {
    "name": "ipython",
    "version": 3
   },
   "file_extension": ".py",
   "mimetype": "text/x-python",
   "name": "python",
   "nbconvert_exporter": "python",
   "pygments_lexer": "ipython3",
   "version": "3.6.2"
  }
 },
 "nbformat": 4,
 "nbformat_minor": 2
}
